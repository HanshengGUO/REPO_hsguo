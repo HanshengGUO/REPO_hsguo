{
 "cells": [
  {
   "cell_type": "code",
   "execution_count": 5,
   "metadata": {},
   "outputs": [],
   "source": [
    "import numpy as np\n",
    "import csv\n",
    "import pandas as pd"
   ]
  },
  {
   "cell_type": "code",
   "execution_count": 3,
   "metadata": {},
   "outputs": [],
   "source": [
    "np.random.random([200,3])\n",
    "np.savetxt('./datasets/dummy_dataset.csv',np.random.random([200,3]),delimiter=',')"
   ]
  },
  {
   "cell_type": "code",
   "execution_count": 6,
   "metadata": {},
   "outputs": [],
   "source": [
    "df=pd.read_csv('./datasets/dummy_dataset.csv')"
   ]
  },
  {
   "cell_type": "code",
   "execution_count": 8,
   "metadata": {},
   "outputs": [
    {
     "data": {
      "text/html": [
       "<div>\n",
       "<style scoped>\n",
       "    .dataframe tbody tr th:only-of-type {\n",
       "        vertical-align: middle;\n",
       "    }\n",
       "\n",
       "    .dataframe tbody tr th {\n",
       "        vertical-align: top;\n",
       "    }\n",
       "\n",
       "    .dataframe thead th {\n",
       "        text-align: right;\n",
       "    }\n",
       "</style>\n",
       "<table border=\"1\" class=\"dataframe\">\n",
       "  <thead>\n",
       "    <tr style=\"text-align: right;\">\n",
       "      <th></th>\n",
       "      <th>a</th>\n",
       "      <th>b</th>\n",
       "      <th>c</th>\n",
       "    </tr>\n",
       "  </thead>\n",
       "  <tbody>\n",
       "    <tr>\n",
       "      <th>0</th>\n",
       "      <td>0.631944</td>\n",
       "      <td>0.366042</td>\n",
       "      <td>0.793909</td>\n",
       "    </tr>\n",
       "    <tr>\n",
       "      <th>1</th>\n",
       "      <td>0.068731</td>\n",
       "      <td>0.893640</td>\n",
       "      <td>0.471911</td>\n",
       "    </tr>\n",
       "    <tr>\n",
       "      <th>2</th>\n",
       "      <td>0.901009</td>\n",
       "      <td>0.957712</td>\n",
       "      <td>0.232470</td>\n",
       "    </tr>\n",
       "    <tr>\n",
       "      <th>3</th>\n",
       "      <td>0.152718</td>\n",
       "      <td>0.419538</td>\n",
       "      <td>0.874706</td>\n",
       "    </tr>\n",
       "    <tr>\n",
       "      <th>4</th>\n",
       "      <td>0.497881</td>\n",
       "      <td>0.211858</td>\n",
       "      <td>0.472006</td>\n",
       "    </tr>\n",
       "    <tr>\n",
       "      <th>...</th>\n",
       "      <td>...</td>\n",
       "      <td>...</td>\n",
       "      <td>...</td>\n",
       "    </tr>\n",
       "    <tr>\n",
       "      <th>95</th>\n",
       "      <td>0.264771</td>\n",
       "      <td>0.412391</td>\n",
       "      <td>0.633807</td>\n",
       "    </tr>\n",
       "    <tr>\n",
       "      <th>96</th>\n",
       "      <td>0.614563</td>\n",
       "      <td>0.378264</td>\n",
       "      <td>0.095163</td>\n",
       "    </tr>\n",
       "    <tr>\n",
       "      <th>97</th>\n",
       "      <td>0.098543</td>\n",
       "      <td>0.442541</td>\n",
       "      <td>0.485425</td>\n",
       "    </tr>\n",
       "    <tr>\n",
       "      <th>98</th>\n",
       "      <td>0.017811</td>\n",
       "      <td>0.264953</td>\n",
       "      <td>0.633221</td>\n",
       "    </tr>\n",
       "    <tr>\n",
       "      <th>99</th>\n",
       "      <td>0.507731</td>\n",
       "      <td>0.498050</td>\n",
       "      <td>0.050295</td>\n",
       "    </tr>\n",
       "  </tbody>\n",
       "</table>\n",
       "<p>100 rows × 3 columns</p>\n",
       "</div>"
      ],
      "text/plain": [
       "           a         b         c\n",
       "0   0.631944  0.366042  0.793909\n",
       "1   0.068731  0.893640  0.471911\n",
       "2   0.901009  0.957712  0.232470\n",
       "3   0.152718  0.419538  0.874706\n",
       "4   0.497881  0.211858  0.472006\n",
       "..       ...       ...       ...\n",
       "95  0.264771  0.412391  0.633807\n",
       "96  0.614563  0.378264  0.095163\n",
       "97  0.098543  0.442541  0.485425\n",
       "98  0.017811  0.264953  0.633221\n",
       "99  0.507731  0.498050  0.050295\n",
       "\n",
       "[100 rows x 3 columns]"
      ]
     },
     "execution_count": 8,
     "metadata": {},
     "output_type": "execute_result"
    }
   ],
   "source": [
    "df[:100]"
   ]
  }
 ],
 "metadata": {
  "interpreter": {
   "hash": "258227839fc5ca99de07288567f0274ef57fe32b39947a6e7778199be4c74dd7"
  },
  "kernelspec": {
   "display_name": "Python 3.9.7 ('base')",
   "language": "python",
   "name": "python3"
  },
  "language_info": {
   "codemirror_mode": {
    "name": "ipython",
    "version": 3
   },
   "file_extension": ".py",
   "mimetype": "text/x-python",
   "name": "python",
   "nbconvert_exporter": "python",
   "pygments_lexer": "ipython3",
   "version": "3.9.7"
  },
  "orig_nbformat": 4
 },
 "nbformat": 4,
 "nbformat_minor": 2
}
